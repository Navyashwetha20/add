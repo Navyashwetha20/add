{
  "nbformat": 4,
  "nbformat_minor": 0,
  "metadata": {
    "colab": {
      "name": "Add.ipynb",
      "provenance": []
    },
    "kernelspec": {
      "name": "python3",
      "display_name": "Python 3"
    },
    "language_info": {
      "name": "python"
    }
  },
  "cells": [
    {
      "cell_type": "code",
      "metadata": {
        "id": "L-BacTqDJbDK"
      },
      "source": [
        "import pandas as pd\n",
        "import json"
      ],
      "execution_count": 1,
      "outputs": []
    },
    {
      "cell_type": "code",
      "metadata": {
        "id": "uobPX6FfJtr4"
      },
      "source": [
        "record = {\t\"1001\": {\"name\": \"sugar\", \"qn\": 34, \"pr\": 100}, \n",
        "\t\"1002\": {\"name\": \"teapowder\", \"pr\": 800, \"qn\": 100}, \n",
        "\t\"1003\": {\"name\": \"Dal\", \"pr\": 85, \"qn\": 100}, \n",
        "\t\"1004\": {\"name\": \"Moog\", \"pr\": 5, \"qn\": 1000}, \n",
        "\t\"1005\": {\"name\": \"wheat\", \"pr\": 20, \"qn\": 100}, \n",
        "\t\"1006\": {\"name\": \"paddy\", \"pr\": 50000, \"qn\": 10}, \n",
        "\t\"1007\": {\"name\": \"Jowar\", \"pr\": 1500, \"qn\": 110}, \n",
        "\t\"1008\": {\"name\": \"Agarbatti\", \"pr\": 599, \"qn\": 5}, \n",
        "\t\"1009\": {\"name\": \"rin soap\", \"pr\": 18, \"qn\": 10},\n",
        "\t\"1010\": {\"name\": \"powder\", \"pr\": 133, \"qn\": 9},\n",
        "\t\"1011\": {\"name\": \"pickle\", \"pr\": 189, \"qn\": 7},\n",
        "\t\"1012\": {\"name\": \"brush\", \"pr\": 139, \"qn\": 22},\n",
        "\t\"1013\": {\"name\": \"Flour\", \"pr\": 1923, \"qn\": 120},\n",
        "\t\"1014\": {\"name\": \"Santoor soap\", \"pr\": 18, \"qn\": 110},\n",
        "\t\"1015\": {\"name\": \"Lux soap\", \"pr\": 169, \"qn\": 130}}"
      ],
      "execution_count": 5,
      "outputs": []
    },
    {
      "cell_type": "code",
      "metadata": {
        "id": "kUbrtj2mKMad"
      },
      "source": [
        "record_json=json.dumps(record)"
      ],
      "execution_count": 6,
      "outputs": []
    },
    {
      "cell_type": "code",
      "metadata": {
        "colab": {
          "base_uri": "https://localhost:8080/",
          "height": 221
        },
        "id": "Zg4zQ8X6KS0x",
        "outputId": "e92dcf49-cdb8-4cd1-a981-519c70f366f3"
      },
      "source": [
        "record_json"
      ],
      "execution_count": 25,
      "outputs": [
        {
          "output_type": "execute_result",
          "data": {
            "application/vnd.google.colaboratory.intrinsic+json": {
              "type": "string"
            },
            "text/plain": [
              "'{\"1001\": {\"name\": \"sugar\", \"qn\": 34, \"pr\": 100}, \"1002\": {\"name\": \"teapowder\", \"pr\": 800, \"qn\": 100}, \"1003\": {\"name\": \"Dal\", \"pr\": 85, \"qn\": 100}, \"1004\": {\"name\": \"Moog\", \"pr\": 5, \"qn\": 1000}, \"1005\": {\"name\": \"wheat\", \"pr\": 20, \"qn\": 100}, \"1006\": {\"name\": \"paddy\", \"pr\": 50000, \"qn\": 10}, \"1007\": {\"name\": \"Jowar\", \"pr\": 1500, \"qn\": 110}, \"1008\": {\"name\": \"Agarbatti\", \"pr\": 599, \"qn\": 5}, \"1009\": {\"name\": \"rin soap\", \"pr\": 18, \"qn\": 10}, \"1010\": {\"name\": \"powder\", \"pr\": 133, \"qn\": 9}, \"1011\": {\"name\": \"pickle\", \"pr\": 189, \"qn\": 7}, \"1012\": {\"name\": \"brush\", \"pr\": 139, \"qn\": 22}, \"1013\": {\"name\": \"Flour\", \"pr\": 1923, \"qn\": 120}, \"1014\": {\"name\": \"Santoor soap\", \"pr\": 18, \"qn\": 110}, \"1015\": {\"name\": \"Lux soap\", \"pr\": 169, \"qn\": 130}}'"
            ]
          },
          "metadata": {},
          "execution_count": 25
        }
      ]
    },
    {
      "cell_type": "code",
      "metadata": {
        "id": "zcKLGmJmLXgL"
      },
      "source": [
        "json_data=\"\"\"\n",
        "{\t\"1001\": {\"name\": \"sugar\", \"qn\": 34, \"pr\": 100}, \n",
        "\t\"1002\": {\"name\": \"teapowder\", \"pr\": 800, \"qn\": 100}, \n",
        "\t\"1003\": {\"name\": \"Dal\", \"pr\": 85, \"qn\": 100}, \n",
        "\t\"1004\": {\"name\": \"Moog\", \"pr\": 5, \"qn\": 1000}, \n",
        "\t\"1005\": {\"name\": \"wheat\", \"pr\": 20, \"qn\": 100}, \n",
        "\t\"1006\": {\"name\": \"paddy\", \"pr\": 50000, \"qn\": 10}, \n",
        "\t\"1007\": {\"name\": \"Jowar\", \"pr\": 1500, \"qn\": 110}, \n",
        "\t\"1008\": {\"name\": \"Agarbatti\", \"pr\": 599, \"qn\": 5}, \n",
        "\t\"1009\": {\"name\": \"rin soap\", \"pr\": 18, \"qn\": 10},\n",
        "\t\"1010\": {\"name\": \"powder\", \"pr\": 133, \"qn\": 9},\n",
        "\t\"1011\": {\"name\": \"pickle\", \"pr\": 189, \"qn\": 7},\n",
        "\t\"1012\": {\"name\": \"brush\", \"pr\": 139, \"qn\": 22},\n",
        "\t\"1013\": {\"name\": \"Flour\", \"pr\": 1923, \"qn\": 120},\n",
        "\t\"1014\": {\"name\": \"Santoor soap\", \"pr\": 18, \"qn\": 110},\n",
        "\t\"1015\": {\"name\": \"Lux soap\", \"pr\": 169, \"qn\": 130}}\"\"\""
      ],
      "execution_count": 26,
      "outputs": []
    },
    {
      "cell_type": "code",
      "metadata": {
        "id": "eM-sZ0EtPTrH"
      },
      "source": [
        "record=json.loads(record_json)"
      ],
      "execution_count": 28,
      "outputs": []
    },
    {
      "cell_type": "code",
      "metadata": {
        "colab": {
          "base_uri": "https://localhost:8080/"
        },
        "id": "YMA5_Tr5PyrA",
        "outputId": "735bd102-7a79-4910-f614-3db4888908f1"
      },
      "source": [
        "record"
      ],
      "execution_count": 29,
      "outputs": [
        {
          "output_type": "execute_result",
          "data": {
            "text/plain": [
              "{'1001': {'name': 'sugar', 'pr': 100, 'qn': 34},\n",
              " '1002': {'name': 'teapowder', 'pr': 800, 'qn': 100},\n",
              " '1003': {'name': 'Dal', 'pr': 85, 'qn': 100},\n",
              " '1004': {'name': 'Moog', 'pr': 5, 'qn': 1000},\n",
              " '1005': {'name': 'wheat', 'pr': 20, 'qn': 100},\n",
              " '1006': {'name': 'paddy', 'pr': 50000, 'qn': 10},\n",
              " '1007': {'name': 'Jowar', 'pr': 1500, 'qn': 110},\n",
              " '1008': {'name': 'Agarbatti', 'pr': 599, 'qn': 5},\n",
              " '1009': {'name': 'rin soap', 'pr': 18, 'qn': 10},\n",
              " '1010': {'name': 'powder', 'pr': 133, 'qn': 9},\n",
              " '1011': {'name': 'pickle', 'pr': 189, 'qn': 7},\n",
              " '1012': {'name': 'brush', 'pr': 139, 'qn': 22},\n",
              " '1013': {'name': 'Flour', 'pr': 1923, 'qn': 120},\n",
              " '1014': {'name': 'Santoor soap', 'pr': 18, 'qn': 110},\n",
              " '1015': {'name': 'Lux soap', 'pr': 169, 'qn': 130}}"
            ]
          },
          "metadata": {},
          "execution_count": 29
        }
      ]
    },
    {
      "cell_type": "code",
      "metadata": {
        "colab": {
          "base_uri": "https://localhost:8080/"
        },
        "id": "m7JrBbD2P3IA",
        "outputId": "4ca6bcb7-4173-4936-daac-528ce8484494"
      },
      "source": [
        "prod_id = str(input(\"Enter product id:\"))\n",
        "name = str(input(\"Enter name:\"))\n",
        "pr = int(input(\"Enter price:\"))\n",
        "qn = int(input(\"Enter quantity:\"))\n",
        "\n",
        "record[prod_id] = {'name': name, 'pr': pr, 'qn': qn}\n",
        "\n",
        "js = json.dumps(record)\n",
        "\n",
        "fd = open(\"record.json\",'w')\n",
        "fd.write(js)\n",
        "fd.close()"
      ],
      "execution_count": 30,
      "outputs": [
        {
          "name": "stdout",
          "output_type": "stream",
          "text": [
            "Enter product id:1031\n",
            "Enter name:wheel soap\n",
            "Enter price:20\n",
            "Enter quantity:8\n"
          ]
        }
      ]
    },
    {
      "cell_type": "code",
      "metadata": {
        "colab": {
          "base_uri": "https://localhost:8080/"
        },
        "id": "mPfpd69YRNit",
        "outputId": "aca67bcb-5761-4c31-fc5e-4ea3209cd4bb"
      },
      "source": [
        "record"
      ],
      "execution_count": 31,
      "outputs": [
        {
          "output_type": "execute_result",
          "data": {
            "text/plain": [
              "{'1001': {'name': 'sugar', 'pr': 100, 'qn': 34},\n",
              " '1002': {'name': 'teapowder', 'pr': 800, 'qn': 100},\n",
              " '1003': {'name': 'Dal', 'pr': 85, 'qn': 100},\n",
              " '1004': {'name': 'Moog', 'pr': 5, 'qn': 1000},\n",
              " '1005': {'name': 'wheat', 'pr': 20, 'qn': 100},\n",
              " '1006': {'name': 'paddy', 'pr': 50000, 'qn': 10},\n",
              " '1007': {'name': 'Jowar', 'pr': 1500, 'qn': 110},\n",
              " '1008': {'name': 'Agarbatti', 'pr': 599, 'qn': 5},\n",
              " '1009': {'name': 'rin soap', 'pr': 18, 'qn': 10},\n",
              " '1010': {'name': 'powder', 'pr': 133, 'qn': 9},\n",
              " '1011': {'name': 'pickle', 'pr': 189, 'qn': 7},\n",
              " '1012': {'name': 'brush', 'pr': 139, 'qn': 22},\n",
              " '1013': {'name': 'Flour', 'pr': 1923, 'qn': 120},\n",
              " '1014': {'name': 'Santoor soap', 'pr': 18, 'qn': 110},\n",
              " '1015': {'name': 'Lux soap', 'pr': 169, 'qn': 130}}"
            ]
          },
          "metadata": {},
          "execution_count": 31
        }
      ]
    },
    {
      "cell_type": "code",
      "metadata": {
        "id": "Lh_eDXSXRQmD"
      },
      "source": [
        "del record['1001']"
      ],
      "execution_count": 33,
      "outputs": []
    },
    {
      "cell_type": "code",
      "metadata": {
        "colab": {
          "base_uri": "https://localhost:8080/"
        },
        "id": "5VN6IYvsRbs0",
        "outputId": "f8ce6216-ea62-4115-b0eb-55548f824475"
      },
      "source": [
        "record"
      ],
      "execution_count": 34,
      "outputs": [
        {
          "output_type": "execute_result",
          "data": {
            "text/plain": [
              "{'1002': {'name': 'teapowder', 'pr': 800, 'qn': 100},\n",
              " '1003': {'name': 'Dal', 'pr': 85, 'qn': 100},\n",
              " '1004': {'name': 'Moog', 'pr': 5, 'qn': 1000},\n",
              " '1005': {'name': 'wheat', 'pr': 20, 'qn': 100},\n",
              " '1006': {'name': 'paddy', 'pr': 50000, 'qn': 10},\n",
              " '1007': {'name': 'Jowar', 'pr': 1500, 'qn': 110},\n",
              " '1008': {'name': 'Agarbatti', 'pr': 599, 'qn': 5},\n",
              " '1009': {'name': 'rin soap', 'pr': 18, 'qn': 10},\n",
              " '1010': {'name': 'powder', 'pr': 133, 'qn': 9},\n",
              " '1011': {'name': 'pickle', 'pr': 189, 'qn': 7},\n",
              " '1012': {'name': 'brush', 'pr': 139, 'qn': 22},\n",
              " '1013': {'name': 'Flour', 'pr': 1923, 'qn': 120},\n",
              " '1014': {'name': 'Santoor soap', 'pr': 18, 'qn': 110},\n",
              " '1015': {'name': 'Lux soap', 'pr': 169, 'qn': 130}}"
            ]
          },
          "metadata": {},
          "execution_count": 34
        }
      ]
    }
  ]
}